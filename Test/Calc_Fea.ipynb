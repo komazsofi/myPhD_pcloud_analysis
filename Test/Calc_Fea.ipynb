{
 "cells": [
  {
   "cell_type": "code",
   "execution_count": 19,
   "metadata": {
    "collapsed": true
   },
   "outputs": [],
   "source": [
    "from laspy.file import File\n",
    "\n",
    "import pandas as pd\n",
    "import numpy as np\n",
    "\n",
    "from scipy.spatial import cKDTree"
   ]
  },
  {
   "cell_type": "code",
   "execution_count": 5,
   "metadata": {},
   "outputs": [],
   "source": [
    "inFile = File('D://Wetland//GEOBIA//Data//AHN2//12en1_selsel.las', mode='r')\n",
    "\n",
    "points = np.vstack([inFile.X, inFile.Y, inFile.Z]).transpose()"
   ]
  },
  {
   "cell_type": "code",
   "execution_count": 6,
   "metadata": {},
   "outputs": [],
   "source": [
    "neighbours = [25]\n",
    "kdtree = cKDTree(points)\n",
    "distances, point_neighbours = kdtree.query(points, max(neighbours))"
   ]
  },
  {
   "cell_type": "code",
   "execution_count": 11,
   "metadata": {},
   "outputs": [
    {
     "name": "stdout",
     "output_type": "stream",
     "text": [
      "5271781\n"
     ]
    }
   ],
   "source": [
    "n_points=len(points)\n",
    "print(n_points)"
   ]
  },
  {
   "cell_type": "code",
   "execution_count": 18,
   "metadata": {},
   "outputs": [],
   "source": [
    "std_z=np.zeros(n_points)\n",
    "\n",
    "for i in range(n_points):\n",
    "    local_points = points[point_neighbours[i]]\n",
    "    \n",
    "    std_z[i]=np.std(local_points[:,2])"
   ]
  },
  {
   "cell_type": "code",
   "execution_count": null,
   "metadata": {},
   "outputs": [
    {
     "name": "stdout",
     "output_type": "stream",
     "text": [
      "5271781\n(5271781L,)\n"
     ]
    },
    {
     "name": "stdout",
     "output_type": "stream",
     "text": [
      "             x      y    z      std_z\n0        10341  43544   44   8.565045\n1        10325  43575   48   6.875580\n2        10289  43531   56   6.289801\n3        10331  43594   38   4.232446\n4        10294  43550   50   5.782733\n5        10305  43606   49   4.312586\n6        10272  43569   47   4.440541\n7        10239  43538   39   5.238320\n8        10278  43613   47   3.753612\n9        10245  43581   44   5.566471\n10       10211  43544   48   6.614650\n11       10264  43644   44   6.149341\n12       10230  43606   48   7.663315\n13       10191  43569   62   7.673330\n14       10161  43538   51   8.227174\n15       10269  43663   41   6.112283\n16       10233  43625   44   7.485025\n17       10163  43550   54   8.219586\n18       10253  43694   33   4.329249\n19       10219  43656   36   6.596241\n20       10184  43625   37   9.347000\n21       10148  43581   43  10.178409\n22       10117  43550   35   5.873874\n23       10236  43713   32   3.671730\n24       10203  43675   33   4.260329\n25       10169  43644   33   5.340262\n26       10134  43606   33   7.725283\n27       10100  43569   35   5.012943\n28       10067  43531   37   3.926525\n29       10223  43744   38   4.066645\n...        ...    ...  ...        ...\n5271751  30633  43431  140  54.076745\n5271752  30539  43344  171  63.716296\n5271753  30348  43156   61  11.384481\n5271754  30314  43125   65  10.513686\n5271755  30648  43513  170  33.607237\n5271756  30622  43488  189  36.411295\n5271757  30525  43388   44   7.529568\n5271758  30514  43381  190  45.575432\n5271759  30423  43294   60   8.203804\n5271760  30284  43163   72  10.457533\n5271761  30564  43488   62   7.064956\n5271762  30561  43481  140  65.664602\n5271763  30492  43419   63  11.149888\n5271764  30486  43413  216  33.602286\n5271765  30236  43169   50   9.587492\n5271766  30469  43456   72  10.541347\n5271767  30436  43425   79   9.870846\n5271768  30441  43431  175  56.179000\n5271769  30323  43319   69   9.186947\n5271770  30439  43463  190  44.655410\n5271771  30314  43344   66   6.746851\n5271772  30233  43269   48   7.756700\n5271773  30380  43469   47   6.952870\n5271774  30094  43194   55   7.904024\n5271775  30361  43506  186  27.497898\n5271776  30313  43519   58   7.670828\n5271777  30164  43381   49   5.393923\n5271778  30197  43500   51   4.830901\n5271779  30055  43363   55   5.799862\n5271780  30058  43419   58   5.161395\n\n[5271781 rows x 4 columns]\n"
     ]
    }
   ],
   "source": [
    "print(len(std_z))\n",
    "print(std_z.transpose().shape)\n",
    "\n",
    "pcloud_wfea={}\n",
    "pcloud_wfea[\"x\"]=inFile.X\n",
    "pcloud_wfea[\"y\"]=inFile.Y\n",
    "pcloud_wfea[\"z\"]=inFile.Z\n",
    "pcloud_wfea[\"std_z\"]=std_z\n",
    "\n",
    "pcloud_wfea=pd.DataFrame(pcloud_wfea)\n",
    "pcloud_wfea=pcloud_wfea[[\"x\",\"y\",\"z\",\"std_z\"]]\n",
    "\n",
    "print(pcloud_wfea)\n",
    "\n",
    "pcloud_wfea.to_csv('D://Wetland//GEOBIA//Data//AHN2//points_wfea.csv',sep=\";\",index=False)"
   ]
  },
  {
   "cell_type": "code",
   "execution_count": null,
   "metadata": {},
   "outputs": [],
   "source": []
  }
 ],
 "metadata": {
  "kernelspec": {
   "display_name": "Python 2",
   "language": "python",
   "name": "python2"
  },
  "language_info": {
   "codemirror_mode": {
    "name": "ipython",
    "version": 2
   },
   "file_extension": ".py",
   "mimetype": "text/x-python",
   "name": "python",
   "nbconvert_exporter": "python",
   "pygments_lexer": "ipython2",
   "version": "2.7.6"
  }
 },
 "nbformat": 4,
 "nbformat_minor": 0
}
