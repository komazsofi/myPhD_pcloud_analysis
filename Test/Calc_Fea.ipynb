{
 "cells": [
  {
   "cell_type": "code",
   "execution_count": 8,
   "metadata": {
    "collapsed": true
   },
   "outputs": [],
   "source": [
    "from laspy.file import File\n",
    "import numpy as np\n",
    "from scipy.spatial import cKDTree"
   ]
  },
  {
   "cell_type": "code",
   "execution_count": 5,
   "metadata": {},
   "outputs": [],
   "source": [
    "inFile = File('D://Wetland//GEOBIA//Data//AHN2//12en1_selsel.las', mode='r')\n",
    "\n",
    "points = np.vstack([inFile.X, inFile.Y, inFile.Z]).transpose()"
   ]
  },
  {
   "cell_type": "code",
   "execution_count": 6,
   "metadata": {},
   "outputs": [],
   "source": [
    "neighbours = [25]\n",
    "kdtree = cKDTree(points)\n",
    "distances, point_neighbours = kdtree.query(points, max(neighbours))"
   ]
  },
  {
   "cell_type": "code",
   "execution_count": 11,
   "metadata": {},
   "outputs": [
    {
     "name": "stdout",
     "output_type": "stream",
     "text": [
      "5271781\n"
     ]
    }
   ],
   "source": [
    "n_points=len(points)\n",
    "print(n_points)"
   ]
  },
  {
   "cell_type": "code",
   "execution_count": 12,
   "metadata": {},
   "outputs": [],
   "source": [
    "std_z=np.zeros(n_points)\n",
    "\n",
    "for i in range(n_points):\n",
    "    local_points = points[point_neighbours[i]]\n",
    "    \n",
    "    std_z[i]=np.std(local_points[:,2])\n",
    "    \n",
    "print(len(std_z))"
   ]
  }
 ],
 "metadata": {
  "kernelspec": {
   "display_name": "Python 2",
   "language": "python",
   "name": "python2"
  },
  "language_info": {
   "codemirror_mode": {
    "name": "ipython",
    "version": 2
   },
   "file_extension": ".py",
   "mimetype": "text/x-python",
   "name": "python",
   "nbconvert_exporter": "python",
   "pygments_lexer": "ipython2",
   "version": "2.7.6"
  }
 },
 "nbformat": 4,
 "nbformat_minor": 0
}
