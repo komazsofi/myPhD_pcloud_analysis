{
 "cells": [
  {
   "cell_type": "code",
   "execution_count": 19,
   "metadata": {
    "collapsed": true
   },
   "outputs": [],
   "source": [
    "from laspy.file import File\n",
    "\n",
    "import pandas as pd\n",
    "import numpy as np\n",
    "\n",
    "from scipy.spatial import cKDTree"
   ]
  },
  {
   "cell_type": "code",
   "execution_count": 5,
   "metadata": {},
   "outputs": [],
   "source": [
    "inFile = File('D://Wetland//GEOBIA//Data//AHN2//12en1_selsel.las', mode='r')\n",
    "\n",
    "points = np.vstack([inFile.X, inFile.Y, inFile.Z]).transpose()"
   ]
  },
  {
   "cell_type": "code",
   "execution_count": 6,
   "metadata": {},
   "outputs": [],
   "source": [
    "neighbours = [25]\n",
    "kdtree = cKDTree(points)\n",
    "distances, point_neighbours = kdtree.query(points, max(neighbours))"
   ]
  },
  {
   "cell_type": "code",
   "execution_count": 11,
   "metadata": {},
   "outputs": [
    {
     "name": "stdout",
     "output_type": "stream",
     "text": [
      "5271781\n"
     ]
    }
   ],
   "source": [
    "n_points=len(points)\n",
    "print(n_points)"
   ]
  },
  {
   "cell_type": "code",
   "execution_count": 18,
   "metadata": {},
   "outputs": [],
   "source": [
    "std_z=np.zeros(n_points)\n",
    "\n",
    "for i in range(n_points):\n",
    "    local_points = points[point_neighbours[i]]\n",
    "    \n",
    "    std_z[i]=np.std(local_points[:,2])"
   ]
  },
  {
   "cell_type": "code",
   "execution_count": 25,
   "metadata": {},
   "outputs": [
    {
     "name": "stdout",
     "output_type": "stream",
     "text": [
      "5271781\n(5271781L,)\n"
     ]
    }
   ],
   "source": [
    "print(len(std_z))\n",
    "print(std_z.transpose().shape)\n",
    "\n",
    "pcloud_wfea={}\n",
    "pcloud_wfea[\"x\"]=inFile.X\n",
    "pcloud_wfea[\"y\"]=inFile.Y\n",
    "pcloud_wfea[\"z\"]=inFile.Z\n",
    "pcloud_wfea[\"std_z\"]=std_z\n",
    "\n",
    "pcloud_wfea=pd.DataFrame(pcloud_wfea)\n",
    "pcloud_wfea=pcloud_wfea[[\"x\",\"y\",\"z\",\"std_z\"]]\n",
    "\n",
    "#print(pcloud_wfea)\n",
    "\n",
    "pcloud_wfea.to_csv('D://Wetland//GEOBIA//Data//AHN2//points_wfea.csv',sep=\";\",index=False)"
   ]
  },
  {
   "cell_type": "code",
   "execution_count": null,
   "metadata": {},
   "outputs": [],
   "source": []
  },
  {
   "cell_type": "code",
   "execution_count": null,
   "metadata": {},
   "outputs": [],
   "source": []
  }
 ],
 "metadata": {
  "kernelspec": {
   "display_name": "Python 2",
   "language": "python",
   "name": "python2"
  },
  "language_info": {
   "codemirror_mode": {
    "name": "ipython",
    "version": 2
   },
   "file_extension": ".py",
   "mimetype": "text/x-python",
   "name": "python",
   "nbconvert_exporter": "python",
   "pygments_lexer": "ipython2",
   "version": "2.7.6"
  }
 },
 "nbformat": 4,
 "nbformat_minor": 0
}
