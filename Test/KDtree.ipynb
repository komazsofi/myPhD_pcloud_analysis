{
 "cells": [
  {
   "cell_type": "code",
   "execution_count": 8,
   "metadata": {
    "collapsed": true
   },
   "outputs": [],
   "source": [
    "import numpy as np\n",
    "import matplotlib.pyplot as plt\n",
    "from scipy.spatial import cKDTree"
   ]
  },
  {
   "cell_type": "code",
   "execution_count": 10,
   "metadata": {},
   "outputs": [
    {
     "data": {
      "image/png": "[encoded data removed]",
      "text/plain": [
       "<matplotlib.figure.Figure at 0xb33fcc0>"
      ]
     },
     "metadata": {},
     "output_type": "display_data"
    }
   ],
   "source": [
    "sim_pcloud=np.array([[1,1],[2,4],[3,2],[5,1.5],[7,3],[10,1.25],[5,5],[2.5,8]])\n",
    "\n",
    "plt.scatter(sim_pcloud[:,0],sim_pcloud[:,1])\n",
    "plt.show()"
   ]
  },
  {
   "cell_type": "code",
   "execution_count": 16,
   "metadata": {},
   "outputs": [
    {
     "name": "stdout",
     "output_type": "stream",
     "text": [
      "0\n[[ 1.  1.]\n [ 3.  2.]\n [ 2.  4.]]\n[ 0.          2.23606798  3.16227766]\n1\n[[ 2.  4.]\n [ 3.  2.]\n [ 1.  1.]]\n[ 0.          2.23606798  3.16227766]\n2\n[[ 3.   2. ]\n [ 5.   1.5]\n [ 2.   4. ]]\n[ 0.          2.06155281  2.23606798]\n3\n[[ 5.   1.5]\n [ 3.   2. ]\n [ 7.   3. ]]\n[ 0.          2.06155281  2.5       ]\n4\n[[ 7.   3. ]\n [ 5.   1.5]\n [ 5.   5. ]]\n[ 0.          2.5         2.82842712]\n5\n[[ 10.     1.25]\n [  7.     3.  ]\n [  5.     1.5 ]]\n[ 0.         3.473111   5.0062461]\n6\n[[ 5.  5.]\n [ 7.  3.]\n [ 2.  4.]]\n[ 0.          2.82842712  3.16227766]\n7\n[[ 2.5  8. ]\n [ 5.   5. ]\n [ 2.   4. ]]\n[ 0.          3.90512484  4.03112887]\n"
     ]
    }
   ],
   "source": [
    "neighbours = [3]\n",
    "kdtree = cKDTree(sim_pcloud)\n",
    "distances, point_neighbours = kdtree.query(sim_pcloud, max(neighbours))\n",
    "\n",
    "for i in range(len(sim_pcloud)):\n",
    "    local_points = sim_pcloud[point_neighbours[i]]\n",
    "    print(i)\n",
    "    print(local_points)\n",
    "    print(distances[i])"
   ]
  },
  {
   "cell_type": "code",
   "execution_count": null,
   "metadata": {},
   "outputs": [
    {
     "name": "stdout",
     "output_type": "stream",
     "text": [
      "0\n[[ 1.  1.]]\n1\n[[ 2.  4.]]\n2\n[[ 3.  2.]]\n3\n[[ 5.   1.5]]\n4\n[[ 7.  3.]]\n5\n[[ 10.     1.25]]\n6\n[[ 5.  5.]]\n7\n[[ 2.5  8. ]]\n"
     ]
    }
   ],
   "source": [
    "radius=2.5\n",
    "kdtree = cKDTree(sim_pcloud)\n",
    "point_neighbours_rad = kdtree.query_ball_point(sim_pcloud, radius)\n",
    "\n",
    "for i in range(len(sim_pcloud)):\n",
    "    local_points_rad = sim_pcloud[point_neighbours_rad[i]]\n",
    "    print(i)\n",
    "    print(local_points_rad)"
   ]
  },
  {
   "cell_type": "code",
   "execution_count": null,
   "metadata": {},
   "outputs": [],
   "source": []
  }
 ],
 "metadata": {
  "kernelspec": {
   "display_name": "Python 2",
   "language": "python",
   "name": "python2"
  },
  "language_info": {
   "codemirror_mode": {
    "name": "ipython",
    "version": 2
   },
   "file_extension": ".py",
   "mimetype": "text/x-python",
   "name": "python",
   "nbconvert_exporter": "python",
   "pygments_lexer": "ipython2",
   "version": "2.7.6"
  }
 },
 "nbformat": 4,
 "nbformat_minor": 0
}
